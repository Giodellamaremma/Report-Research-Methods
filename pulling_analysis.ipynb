{
 "cells": [
  {
   "cell_type": "code",
   "execution_count": null,
   "metadata": {},
   "outputs": [],
   "source": [
    "#Analysis of simulated data of a pulled alpha-helix\n",
    "\n",
    "#Import the relevant libraries\n",
    "\n",
    "import numpy as np\n",
    "import MDAnalysis as mda\n",
    "import matplotlib.pyplot as plt\n",
    "\n",
    "#Decide wich simulation we want to work with. We have 4 at different speeds \n",
    "\n",
    "#TRAJECTORIES: pull_1.xtc, pull_01.xtc, pull_001.xtc, pull_0001.xtc\n",
    "#TOPOLOGIES: pull-v-0-1.tpr, pull-v-0-01.tpr, pull-v-0-001.tpr, pull-v-0-0001.tpr\n",
    "\n",
    "#Note that we have modified the trajectory files to center the protein\n",
    "\n",
    "filename = 'pull_1.xtc'\n",
    "top = 'pull-v-0-1.tpr'\n"
   ]
  },
  {
   "cell_type": "code",
   "execution_count": 120,
   "metadata": {},
   "outputs": [],
   "source": [
    "#With mda.Universe we load .xtc trajectories \n",
    "\n",
    "u = mda.Universe(top,filename)"
   ]
  },
  {
   "cell_type": "code",
   "execution_count": 48,
   "metadata": {},
   "outputs": [],
   "source": [
    "#We want to compute and plot the radius of gyration vs time.\n",
    "\n",
    "#Select protein atoms\n",
    "\n",
    "pro = u.select_atoms(\"protein\")\n",
    "\n",
    "#compute radius of gyration\n",
    "\n",
    "radius_g = []\n",
    "times = []\n",
    "for ts in u.trajectory:\n",
    "    times.append(ts.time)\n",
    "    radius_g.append(pro.radius_of_gyration())\n",
    "\n",
    "times=np.array(times)\n",
    "radius_g=np.array(radius_g)"
   ]
  },
  {
   "cell_type": "code",
   "execution_count": 46,
   "metadata": {},
   "outputs": [
    {
     "data": {
      "image/png": "[encoded data removed]",
      "text/plain": [
       "<Figure size 432x288 with 1 Axes>"
      ]
     },
     "metadata": {
      "needs_background": "light"
     },
     "output_type": "display_data"
    }
   ],
   "source": [
    "#Plot radius of gyration vs time\n",
    "\n",
    "ax=plt.plot(times, radius_g,'r+')\n",
    "plt.xlabel('time (ps)')\n",
    "plt.ylabel('radius of gyration ($\\AA$)')\n",
    "plt.savefig('rog_1.png') #change the file name according to the velocity of pulling"
   ]
  },
  {
   "cell_type": "code",
   "execution_count": 57,
   "metadata": {},
   "outputs": [
    {
     "data": {
      "text/plain": [
       "[<Residue LEU, 0>,\n",
       " <Residue GLN, 1>,\n",
       " <Residue LYS, 2>,\n",
       " <Residue TRP, 3>,\n",
       " <Residue GLN, 4>,\n",
       " <Residue GLN, 5>,\n",
       " <Residue PHE, 6>,\n",
       " <Residue ASN, 7>,\n",
       " <Residue SER, 8>,\n",
       " <Residue ASP, 9>,\n",
       " <Residue LEU, 10>,\n",
       " <Residue ASN, 11>,\n",
       " <Residue SER, 12>]"
      ]
     },
     "execution_count": 57,
     "metadata": {},
     "output_type": "execute_result"
    }
   ],
   "source": [
    "#Get information on residues\n",
    "\n",
    "list(pro.residues)\n"
   ]
  },
  {
   "cell_type": "code",
   "execution_count": 121,
   "metadata": {},
   "outputs": [
    {
     "name": "stdout",
     "output_type": "stream",
     "text": [
      "(11,)\n"
     ]
    }
   ],
   "source": [
    "#Now we compute histograms of the CA end-to-end distance\n",
    "\n",
    "#Select the CA atoms\n",
    "\n",
    "ca_start=u.select_atoms('protein and resid 0 and name CA')\n",
    "ca_end=u.select_atoms('protein and resid 12 and name CA')\n",
    "\n",
    "\n",
    "#Compute distance for evey frame\n",
    "dist = []\n",
    "times = []\n",
    "for ts in u.trajectory:\n",
    "    #Get positions\n",
    "    A = ca_start.positions\n",
    "    B = ca_end.positions\n",
    "    #Compute distance\n",
    "    dist.append(np.linalg.norm(B-A))\n",
    "\n",
    "dist=np.array(dist)\n",
    "\n",
    "print(dist.shape)"
   ]
  },
  {
   "cell_type": "code",
   "execution_count": 126,
   "metadata": {},
   "outputs": [
    {
     "data": {
      "image/png": "[encoded data removed]",
      "text/plain": [
       "<Figure size 432x288 with 1 Axes>"
      ]
     },
     "metadata": {
      "needs_background": "light"
     },
     "output_type": "display_data"
    }
   ],
   "source": [
    "#Plot an histogram for the distances\n",
    "\n",
    "histo=np.histogram(dist,bins=10)\n",
    "\n",
    "x = []\n",
    "for i in range(len(histo[0])):\n",
    "    x.append((histo[1][i+1]+histo[1][i])/2)\n",
    "\n",
    "plt.plot(x,histo[0],'bx')\n",
    "plt.xlabel('end-to-end distanec ($\\AA$)')\n",
    "plt.ylabel('count')\n",
    "plt.savefig('CA_dist_1.png') #change the file name according to the velocity of pulling"
   ]
  },
  {
   "cell_type": "code",
   "execution_count": 129,
   "metadata": {},
   "outputs": [],
   "source": [
    "#We want to compute the mean distance \n",
    "\n",
    "mean = np.mean(dist)\n"
   ]
  },
  {
   "cell_type": "code",
   "execution_count": null,
   "metadata": {},
   "outputs": [],
   "source": []
  }
 ],
 "metadata": {
  "kernelspec": {
   "display_name": "Python 3",
   "language": "python",
   "name": "python3"
  },
  "language_info": {
   "codemirror_mode": {
    "name": "ipython",
    "version": 3
   },
   "file_extension": ".py",
   "mimetype": "text/x-python",
   "name": "python",
   "nbconvert_exporter": "python",
   "pygments_lexer": "ipython3",
   "version": "3.7.3"
  }
 },
 "nbformat": 4,
 "nbformat_minor": 2
}
